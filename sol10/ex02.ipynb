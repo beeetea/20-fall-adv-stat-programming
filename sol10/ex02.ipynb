{
 "metadata": {
  "language_info": {
   "codemirror_mode": {
    "name": "ipython",
    "version": 3
   },
   "file_extension": ".py",
   "mimetype": "text/x-python",
   "name": "python",
   "nbconvert_exporter": "python",
   "pygments_lexer": "ipython3",
   "version": "3.9.0-final"
  },
  "orig_nbformat": 2,
  "kernelspec": {
   "name": "Python 3.9.0 64-bit",
   "display_name": "Python 3.9.0 64-bit",
   "metadata": {
    "interpreter": {
     "hash": "7812ea015bdcee6f23a998adcdd2ef97c151c0c241b7b7070987d9313e41299d"
    }
   }
  }
 },
 "nbformat": 4,
 "nbformat_minor": 2,
 "cells": [
  {
   "cell_type": "code",
   "execution_count": 1,
   "metadata": {},
   "outputs": [],
   "source": [
    "import numpy as np\n",
    "import pandas as pd"
   ]
  },
  {
   "cell_type": "code",
   "execution_count": 2,
   "metadata": {},
   "outputs": [],
   "source": [
    "medals = pd.read_csv(\"./data/Medals.csv\")"
   ]
  },
  {
   "cell_type": "code",
   "execution_count": 3,
   "metadata": {},
   "outputs": [
    {
     "output_type": "execute_result",
     "data": {
      "text/plain": [
       "            Athlete   Age  Year Closing Ceremony Date  Gold Medals  \\\n",
       "0    Michael Phelps  23.0  2008            08/24/2008            8   \n",
       "1    Michael Phelps  19.0  2004            08/29/2004            6   \n",
       "2    Michael Phelps  27.0  2012            08/12/2012            4   \n",
       "3  Natalie Coughlin  25.0  2008            08/24/2008            1   \n",
       "4     Aleksey Nemov  24.0  2000            10/01/2000            2   \n",
       "5     Alicia Coutts  24.0  2012            08/12/2012            1   \n",
       "6    Missy Franklin  17.0  2012            08/12/2012            4   \n",
       "7       Ryan Lochte  27.0  2012            08/12/2012            2   \n",
       "8   Allison Schmitt  22.0  2012            08/12/2012            3   \n",
       "9  Natalie Coughlin  21.0  2004            08/29/2004            2   \n",
       "\n",
       "   Silver Medals  Bronze Medals  Total Medals  \n",
       "0              0              0           8.0  \n",
       "1              0              2           8.0  \n",
       "2              2              0           6.0  \n",
       "3              2              3           6.0  \n",
       "4              1              3           6.0  \n",
       "5              3              1           5.0  \n",
       "6              0              1           5.0  \n",
       "7              2              1           5.0  \n",
       "8              1              1           5.0  \n",
       "9              2              1           5.0  "
      ],
      "text/html": "<div>\n<style scoped>\n    .dataframe tbody tr th:only-of-type {\n        vertical-align: middle;\n    }\n\n    .dataframe tbody tr th {\n        vertical-align: top;\n    }\n\n    .dataframe thead th {\n        text-align: right;\n    }\n</style>\n<table border=\"1\" class=\"dataframe\">\n  <thead>\n    <tr style=\"text-align: right;\">\n      <th></th>\n      <th>Athlete</th>\n      <th>Age</th>\n      <th>Year</th>\n      <th>Closing Ceremony Date</th>\n      <th>Gold Medals</th>\n      <th>Silver Medals</th>\n      <th>Bronze Medals</th>\n      <th>Total Medals</th>\n    </tr>\n  </thead>\n  <tbody>\n    <tr>\n      <th>0</th>\n      <td>Michael Phelps</td>\n      <td>23.0</td>\n      <td>2008</td>\n      <td>08/24/2008</td>\n      <td>8</td>\n      <td>0</td>\n      <td>0</td>\n      <td>8.0</td>\n    </tr>\n    <tr>\n      <th>1</th>\n      <td>Michael Phelps</td>\n      <td>19.0</td>\n      <td>2004</td>\n      <td>08/29/2004</td>\n      <td>6</td>\n      <td>0</td>\n      <td>2</td>\n      <td>8.0</td>\n    </tr>\n    <tr>\n      <th>2</th>\n      <td>Michael Phelps</td>\n      <td>27.0</td>\n      <td>2012</td>\n      <td>08/12/2012</td>\n      <td>4</td>\n      <td>2</td>\n      <td>0</td>\n      <td>6.0</td>\n    </tr>\n    <tr>\n      <th>3</th>\n      <td>Natalie Coughlin</td>\n      <td>25.0</td>\n      <td>2008</td>\n      <td>08/24/2008</td>\n      <td>1</td>\n      <td>2</td>\n      <td>3</td>\n      <td>6.0</td>\n    </tr>\n    <tr>\n      <th>4</th>\n      <td>Aleksey Nemov</td>\n      <td>24.0</td>\n      <td>2000</td>\n      <td>10/01/2000</td>\n      <td>2</td>\n      <td>1</td>\n      <td>3</td>\n      <td>6.0</td>\n    </tr>\n    <tr>\n      <th>5</th>\n      <td>Alicia Coutts</td>\n      <td>24.0</td>\n      <td>2012</td>\n      <td>08/12/2012</td>\n      <td>1</td>\n      <td>3</td>\n      <td>1</td>\n      <td>5.0</td>\n    </tr>\n    <tr>\n      <th>6</th>\n      <td>Missy Franklin</td>\n      <td>17.0</td>\n      <td>2012</td>\n      <td>08/12/2012</td>\n      <td>4</td>\n      <td>0</td>\n      <td>1</td>\n      <td>5.0</td>\n    </tr>\n    <tr>\n      <th>7</th>\n      <td>Ryan Lochte</td>\n      <td>27.0</td>\n      <td>2012</td>\n      <td>08/12/2012</td>\n      <td>2</td>\n      <td>2</td>\n      <td>1</td>\n      <td>5.0</td>\n    </tr>\n    <tr>\n      <th>8</th>\n      <td>Allison Schmitt</td>\n      <td>22.0</td>\n      <td>2012</td>\n      <td>08/12/2012</td>\n      <td>3</td>\n      <td>1</td>\n      <td>1</td>\n      <td>5.0</td>\n    </tr>\n    <tr>\n      <th>9</th>\n      <td>Natalie Coughlin</td>\n      <td>21.0</td>\n      <td>2004</td>\n      <td>08/29/2004</td>\n      <td>2</td>\n      <td>2</td>\n      <td>1</td>\n      <td>5.0</td>\n    </tr>\n  </tbody>\n</table>\n</div>"
     },
     "metadata": {},
     "execution_count": 3
    }
   ],
   "source": [
    "medals.head(10)"
   ]
  },
  {
   "cell_type": "code",
   "execution_count": 4,
   "metadata": {},
   "outputs": [],
   "source": [
    "athlete_country = pd.read_csv(\"./data/Athelete_Country_Map.csv\")\n",
    "\n",
    "athlete_sports = pd.read_csv(\"./data/Athelete_Sports_Map.csv\")"
   ]
  },
  {
   "cell_type": "code",
   "execution_count": 5,
   "metadata": {},
   "outputs": [
    {
     "output_type": "execute_result",
     "data": {
      "text/plain": [
       "                   Athlete   Age  Year Closing Ceremony Date  Gold Medals  \\\n",
       "0           Michael Phelps  23.0  2008            08/24/2008            8   \n",
       "1           Michael Phelps  19.0  2004            08/29/2004            6   \n",
       "2           Michael Phelps  27.0  2012            08/12/2012            4   \n",
       "3         Natalie Coughlin  25.0  2008            08/24/2008            1   \n",
       "4         Natalie Coughlin  21.0  2004            08/29/2004            2   \n",
       "...                    ...   ...   ...                   ...          ...   \n",
       "8526      Olena Sadovnycha  32.0  2000            10/01/2000            0   \n",
       "8527      Kateryna Serdiuk  17.0  2000            10/01/2000            0   \n",
       "8528      Wietse van Alten  21.0  2000            10/01/2000            0   \n",
       "8529  Sandra Wagner-Sachse  31.0  2000            10/01/2000            0   \n",
       "8530             Rod White  23.0  2000            10/01/2000            0   \n",
       "\n",
       "      Silver Medals  Bronze Medals  Total Medals        Country  \n",
       "0                 0              0           8.0  United States  \n",
       "1                 0              2           8.0  United States  \n",
       "2                 2              0           6.0  United States  \n",
       "3                 2              3           6.0  United States  \n",
       "4                 2              1           5.0  United States  \n",
       "...             ...            ...           ...            ...  \n",
       "8526              1              0           1.0        Ukraine  \n",
       "8527              1              0           1.0        Ukraine  \n",
       "8528              0              1           1.0    Netherlands  \n",
       "8529              0              1           1.0        Germany  \n",
       "8530              0              1           1.0  United States  \n",
       "\n",
       "[8531 rows x 9 columns]"
      ],
      "text/html": "<div>\n<style scoped>\n    .dataframe tbody tr th:only-of-type {\n        vertical-align: middle;\n    }\n\n    .dataframe tbody tr th {\n        vertical-align: top;\n    }\n\n    .dataframe thead th {\n        text-align: right;\n    }\n</style>\n<table border=\"1\" class=\"dataframe\">\n  <thead>\n    <tr style=\"text-align: right;\">\n      <th></th>\n      <th>Athlete</th>\n      <th>Age</th>\n      <th>Year</th>\n      <th>Closing Ceremony Date</th>\n      <th>Gold Medals</th>\n      <th>Silver Medals</th>\n      <th>Bronze Medals</th>\n      <th>Total Medals</th>\n      <th>Country</th>\n    </tr>\n  </thead>\n  <tbody>\n    <tr>\n      <th>0</th>\n      <td>Michael Phelps</td>\n      <td>23.0</td>\n      <td>2008</td>\n      <td>08/24/2008</td>\n      <td>8</td>\n      <td>0</td>\n      <td>0</td>\n      <td>8.0</td>\n      <td>United States</td>\n    </tr>\n    <tr>\n      <th>1</th>\n      <td>Michael Phelps</td>\n      <td>19.0</td>\n      <td>2004</td>\n      <td>08/29/2004</td>\n      <td>6</td>\n      <td>0</td>\n      <td>2</td>\n      <td>8.0</td>\n      <td>United States</td>\n    </tr>\n    <tr>\n      <th>2</th>\n      <td>Michael Phelps</td>\n      <td>27.0</td>\n      <td>2012</td>\n      <td>08/12/2012</td>\n      <td>4</td>\n      <td>2</td>\n      <td>0</td>\n      <td>6.0</td>\n      <td>United States</td>\n    </tr>\n    <tr>\n      <th>3</th>\n      <td>Natalie Coughlin</td>\n      <td>25.0</td>\n      <td>2008</td>\n      <td>08/24/2008</td>\n      <td>1</td>\n      <td>2</td>\n      <td>3</td>\n      <td>6.0</td>\n      <td>United States</td>\n    </tr>\n    <tr>\n      <th>4</th>\n      <td>Natalie Coughlin</td>\n      <td>21.0</td>\n      <td>2004</td>\n      <td>08/29/2004</td>\n      <td>2</td>\n      <td>2</td>\n      <td>1</td>\n      <td>5.0</td>\n      <td>United States</td>\n    </tr>\n    <tr>\n      <th>...</th>\n      <td>...</td>\n      <td>...</td>\n      <td>...</td>\n      <td>...</td>\n      <td>...</td>\n      <td>...</td>\n      <td>...</td>\n      <td>...</td>\n      <td>...</td>\n    </tr>\n    <tr>\n      <th>8526</th>\n      <td>Olena Sadovnycha</td>\n      <td>32.0</td>\n      <td>2000</td>\n      <td>10/01/2000</td>\n      <td>0</td>\n      <td>1</td>\n      <td>0</td>\n      <td>1.0</td>\n      <td>Ukraine</td>\n    </tr>\n    <tr>\n      <th>8527</th>\n      <td>Kateryna Serdiuk</td>\n      <td>17.0</td>\n      <td>2000</td>\n      <td>10/01/2000</td>\n      <td>0</td>\n      <td>1</td>\n      <td>0</td>\n      <td>1.0</td>\n      <td>Ukraine</td>\n    </tr>\n    <tr>\n      <th>8528</th>\n      <td>Wietse van Alten</td>\n      <td>21.0</td>\n      <td>2000</td>\n      <td>10/01/2000</td>\n      <td>0</td>\n      <td>0</td>\n      <td>1</td>\n      <td>1.0</td>\n      <td>Netherlands</td>\n    </tr>\n    <tr>\n      <th>8529</th>\n      <td>Sandra Wagner-Sachse</td>\n      <td>31.0</td>\n      <td>2000</td>\n      <td>10/01/2000</td>\n      <td>0</td>\n      <td>0</td>\n      <td>1</td>\n      <td>1.0</td>\n      <td>Germany</td>\n    </tr>\n    <tr>\n      <th>8530</th>\n      <td>Rod White</td>\n      <td>23.0</td>\n      <td>2000</td>\n      <td>10/01/2000</td>\n      <td>0</td>\n      <td>0</td>\n      <td>1</td>\n      <td>1.0</td>\n      <td>United States</td>\n    </tr>\n  </tbody>\n</table>\n<p>8531 rows × 9 columns</p>\n</div>"
     },
     "metadata": {},
     "execution_count": 5
    }
   ],
   "source": [
    "athlete_country_dd = athlete_country.drop_duplicates(subset='Athlete')\n",
    "merged_ac = pd.merge(left=medals, right=athlete_country_dd, left_on='Athlete', right_on='Athlete')\n",
    "\n",
    "merged_ac"
   ]
  },
  {
   "cell_type": "code",
   "execution_count": 6,
   "metadata": {},
   "outputs": [
    {
     "output_type": "execute_result",
     "data": {
      "text/plain": [
       "8531"
      ]
     },
     "metadata": {},
     "execution_count": 6
    }
   ],
   "source": [
    "len(merged_ac)"
   ]
  },
  {
   "cell_type": "code",
   "execution_count": 7,
   "metadata": {},
   "outputs": [
    {
     "output_type": "execute_result",
     "data": {
      "text/plain": [
       "6956"
      ]
     },
     "metadata": {},
     "execution_count": 7
    }
   ],
   "source": [
    "athlete_sports_dd = athlete_sports.drop_duplicates(subset='Athlete')\n",
    "\n",
    "len(athlete_sports_dd)"
   ]
  },
  {
   "cell_type": "code",
   "execution_count": 8,
   "metadata": {},
   "outputs": [
    {
     "output_type": "execute_result",
     "data": {
      "text/plain": [
       "                   Athlete   Age  Year Closing Ceremony Date  Gold Medals  \\\n",
       "0           Michael Phelps  23.0  2008            08/24/2008            8   \n",
       "1           Michael Phelps  19.0  2004            08/29/2004            6   \n",
       "2           Michael Phelps  27.0  2012            08/12/2012            4   \n",
       "3         Natalie Coughlin  25.0  2008            08/24/2008            1   \n",
       "4         Natalie Coughlin  21.0  2004            08/29/2004            2   \n",
       "...                    ...   ...   ...                   ...          ...   \n",
       "8526      Olena Sadovnycha  32.0  2000            10/01/2000            0   \n",
       "8527      Kateryna Serdiuk  17.0  2000            10/01/2000            0   \n",
       "8528      Wietse van Alten  21.0  2000            10/01/2000            0   \n",
       "8529  Sandra Wagner-Sachse  31.0  2000            10/01/2000            0   \n",
       "8530             Rod White  23.0  2000            10/01/2000            0   \n",
       "\n",
       "      Silver Medals  Bronze Medals  Total Medals        Country     Sport  \n",
       "0                 0              0           8.0  United States  Swimming  \n",
       "1                 0              2           8.0  United States  Swimming  \n",
       "2                 2              0           6.0  United States  Swimming  \n",
       "3                 2              3           6.0  United States  Swimming  \n",
       "4                 2              1           5.0  United States  Swimming  \n",
       "...             ...            ...           ...            ...       ...  \n",
       "8526              1              0           1.0        Ukraine   Archery  \n",
       "8527              1              0           1.0        Ukraine   Archery  \n",
       "8528              0              1           1.0    Netherlands   Archery  \n",
       "8529              0              1           1.0        Germany   Archery  \n",
       "8530              0              1           1.0  United States   Archery  \n",
       "\n",
       "[8531 rows x 10 columns]"
      ],
      "text/html": "<div>\n<style scoped>\n    .dataframe tbody tr th:only-of-type {\n        vertical-align: middle;\n    }\n\n    .dataframe tbody tr th {\n        vertical-align: top;\n    }\n\n    .dataframe thead th {\n        text-align: right;\n    }\n</style>\n<table border=\"1\" class=\"dataframe\">\n  <thead>\n    <tr style=\"text-align: right;\">\n      <th></th>\n      <th>Athlete</th>\n      <th>Age</th>\n      <th>Year</th>\n      <th>Closing Ceremony Date</th>\n      <th>Gold Medals</th>\n      <th>Silver Medals</th>\n      <th>Bronze Medals</th>\n      <th>Total Medals</th>\n      <th>Country</th>\n      <th>Sport</th>\n    </tr>\n  </thead>\n  <tbody>\n    <tr>\n      <th>0</th>\n      <td>Michael Phelps</td>\n      <td>23.0</td>\n      <td>2008</td>\n      <td>08/24/2008</td>\n      <td>8</td>\n      <td>0</td>\n      <td>0</td>\n      <td>8.0</td>\n      <td>United States</td>\n      <td>Swimming</td>\n    </tr>\n    <tr>\n      <th>1</th>\n      <td>Michael Phelps</td>\n      <td>19.0</td>\n      <td>2004</td>\n      <td>08/29/2004</td>\n      <td>6</td>\n      <td>0</td>\n      <td>2</td>\n      <td>8.0</td>\n      <td>United States</td>\n      <td>Swimming</td>\n    </tr>\n    <tr>\n      <th>2</th>\n      <td>Michael Phelps</td>\n      <td>27.0</td>\n      <td>2012</td>\n      <td>08/12/2012</td>\n      <td>4</td>\n      <td>2</td>\n      <td>0</td>\n      <td>6.0</td>\n      <td>United States</td>\n      <td>Swimming</td>\n    </tr>\n    <tr>\n      <th>3</th>\n      <td>Natalie Coughlin</td>\n      <td>25.0</td>\n      <td>2008</td>\n      <td>08/24/2008</td>\n      <td>1</td>\n      <td>2</td>\n      <td>3</td>\n      <td>6.0</td>\n      <td>United States</td>\n      <td>Swimming</td>\n    </tr>\n    <tr>\n      <th>4</th>\n      <td>Natalie Coughlin</td>\n      <td>21.0</td>\n      <td>2004</td>\n      <td>08/29/2004</td>\n      <td>2</td>\n      <td>2</td>\n      <td>1</td>\n      <td>5.0</td>\n      <td>United States</td>\n      <td>Swimming</td>\n    </tr>\n    <tr>\n      <th>...</th>\n      <td>...</td>\n      <td>...</td>\n      <td>...</td>\n      <td>...</td>\n      <td>...</td>\n      <td>...</td>\n      <td>...</td>\n      <td>...</td>\n      <td>...</td>\n      <td>...</td>\n    </tr>\n    <tr>\n      <th>8526</th>\n      <td>Olena Sadovnycha</td>\n      <td>32.0</td>\n      <td>2000</td>\n      <td>10/01/2000</td>\n      <td>0</td>\n      <td>1</td>\n      <td>0</td>\n      <td>1.0</td>\n      <td>Ukraine</td>\n      <td>Archery</td>\n    </tr>\n    <tr>\n      <th>8527</th>\n      <td>Kateryna Serdiuk</td>\n      <td>17.0</td>\n      <td>2000</td>\n      <td>10/01/2000</td>\n      <td>0</td>\n      <td>1</td>\n      <td>0</td>\n      <td>1.0</td>\n      <td>Ukraine</td>\n      <td>Archery</td>\n    </tr>\n    <tr>\n      <th>8528</th>\n      <td>Wietse van Alten</td>\n      <td>21.0</td>\n      <td>2000</td>\n      <td>10/01/2000</td>\n      <td>0</td>\n      <td>0</td>\n      <td>1</td>\n      <td>1.0</td>\n      <td>Netherlands</td>\n      <td>Archery</td>\n    </tr>\n    <tr>\n      <th>8529</th>\n      <td>Sandra Wagner-Sachse</td>\n      <td>31.0</td>\n      <td>2000</td>\n      <td>10/01/2000</td>\n      <td>0</td>\n      <td>0</td>\n      <td>1</td>\n      <td>1.0</td>\n      <td>Germany</td>\n      <td>Archery</td>\n    </tr>\n    <tr>\n      <th>8530</th>\n      <td>Rod White</td>\n      <td>23.0</td>\n      <td>2000</td>\n      <td>10/01/2000</td>\n      <td>0</td>\n      <td>0</td>\n      <td>1</td>\n      <td>1.0</td>\n      <td>United States</td>\n      <td>Archery</td>\n    </tr>\n  </tbody>\n</table>\n<p>8531 rows × 10 columns</p>\n</div>"
     },
     "metadata": {},
     "execution_count": 8
    }
   ],
   "source": [
    "merged_result = pd.merge(left=merged_ac, right=athlete_sports_dd, left_on='Athlete', right_on='Athlete')\n",
    "\n",
    "merged_result"
   ]
  },
  {
   "cell_type": "code",
   "execution_count": 9,
   "metadata": {},
   "outputs": [
    {
     "output_type": "execute_result",
     "data": {
      "text/plain": [
       "             Athlete   Age  Year Closing Ceremony Date  Gold Medals  \\\n",
       "43       An Hyeon-Su  20.0  2006            02/26/2006            3   \n",
       "133     Lee Jeong-Su  20.0  2010            02/28/2010            2   \n",
       "139      Jin Seon-Yu  17.0  2006            02/26/2006            3   \n",
       "140      Lee Ho-Seok  19.0  2006            02/26/2006            1   \n",
       "141      Lee Ho-Seok  23.0  2010            02/28/2010            0   \n",
       "...              ...   ...   ...                   ...          ...   \n",
       "8497  Lee Chang-Hwan  26.0  2008            08/24/2008            1   \n",
       "8508    Jang Yong-Ho  28.0  2004            08/29/2004            1   \n",
       "8509    Jang Yong-Ho  24.0  2000            10/01/2000            1   \n",
       "8522  Kim Cheong-Tae  20.0  2000            10/01/2000            1   \n",
       "8524       O Gyo-Mun  28.0  2000            10/01/2000            1   \n",
       "\n",
       "      Silver Medals  Bronze Medals  Total Medals      Country  \\\n",
       "43                0              1           4.0  South Korea   \n",
       "133               1              0           3.0  South Korea   \n",
       "139               0              0           3.0  South Korea   \n",
       "140               2              0           3.0  South Korea   \n",
       "141               2              0           2.0  South Korea   \n",
       "...             ...            ...           ...          ...   \n",
       "8497              0              0           1.0  South Korea   \n",
       "8508              0              0           1.0  South Korea   \n",
       "8509              0              0           1.0  South Korea   \n",
       "8522              0              0           1.0  South Korea   \n",
       "8524              0              0           1.0  South Korea   \n",
       "\n",
       "                          Sport  \n",
       "43    Short-Track Speed Skating  \n",
       "133   Short-Track Speed Skating  \n",
       "139   Short-Track Speed Skating  \n",
       "140   Short-Track Speed Skating  \n",
       "141   Short-Track Speed Skating  \n",
       "...                         ...  \n",
       "8497                    Archery  \n",
       "8508                    Archery  \n",
       "8509                    Archery  \n",
       "8522                    Archery  \n",
       "8524                    Archery  \n",
       "\n",
       "[274 rows x 10 columns]"
      ],
      "text/html": "<div>\n<style scoped>\n    .dataframe tbody tr th:only-of-type {\n        vertical-align: middle;\n    }\n\n    .dataframe tbody tr th {\n        vertical-align: top;\n    }\n\n    .dataframe thead th {\n        text-align: right;\n    }\n</style>\n<table border=\"1\" class=\"dataframe\">\n  <thead>\n    <tr style=\"text-align: right;\">\n      <th></th>\n      <th>Athlete</th>\n      <th>Age</th>\n      <th>Year</th>\n      <th>Closing Ceremony Date</th>\n      <th>Gold Medals</th>\n      <th>Silver Medals</th>\n      <th>Bronze Medals</th>\n      <th>Total Medals</th>\n      <th>Country</th>\n      <th>Sport</th>\n    </tr>\n  </thead>\n  <tbody>\n    <tr>\n      <th>43</th>\n      <td>An Hyeon-Su</td>\n      <td>20.0</td>\n      <td>2006</td>\n      <td>02/26/2006</td>\n      <td>3</td>\n      <td>0</td>\n      <td>1</td>\n      <td>4.0</td>\n      <td>South Korea</td>\n      <td>Short-Track Speed Skating</td>\n    </tr>\n    <tr>\n      <th>133</th>\n      <td>Lee Jeong-Su</td>\n      <td>20.0</td>\n      <td>2010</td>\n      <td>02/28/2010</td>\n      <td>2</td>\n      <td>1</td>\n      <td>0</td>\n      <td>3.0</td>\n      <td>South Korea</td>\n      <td>Short-Track Speed Skating</td>\n    </tr>\n    <tr>\n      <th>139</th>\n      <td>Jin Seon-Yu</td>\n      <td>17.0</td>\n      <td>2006</td>\n      <td>02/26/2006</td>\n      <td>3</td>\n      <td>0</td>\n      <td>0</td>\n      <td>3.0</td>\n      <td>South Korea</td>\n      <td>Short-Track Speed Skating</td>\n    </tr>\n    <tr>\n      <th>140</th>\n      <td>Lee Ho-Seok</td>\n      <td>19.0</td>\n      <td>2006</td>\n      <td>02/26/2006</td>\n      <td>1</td>\n      <td>2</td>\n      <td>0</td>\n      <td>3.0</td>\n      <td>South Korea</td>\n      <td>Short-Track Speed Skating</td>\n    </tr>\n    <tr>\n      <th>141</th>\n      <td>Lee Ho-Seok</td>\n      <td>23.0</td>\n      <td>2010</td>\n      <td>02/28/2010</td>\n      <td>0</td>\n      <td>2</td>\n      <td>0</td>\n      <td>2.0</td>\n      <td>South Korea</td>\n      <td>Short-Track Speed Skating</td>\n    </tr>\n    <tr>\n      <th>...</th>\n      <td>...</td>\n      <td>...</td>\n      <td>...</td>\n      <td>...</td>\n      <td>...</td>\n      <td>...</td>\n      <td>...</td>\n      <td>...</td>\n      <td>...</td>\n      <td>...</td>\n    </tr>\n    <tr>\n      <th>8497</th>\n      <td>Lee Chang-Hwan</td>\n      <td>26.0</td>\n      <td>2008</td>\n      <td>08/24/2008</td>\n      <td>1</td>\n      <td>0</td>\n      <td>0</td>\n      <td>1.0</td>\n      <td>South Korea</td>\n      <td>Archery</td>\n    </tr>\n    <tr>\n      <th>8508</th>\n      <td>Jang Yong-Ho</td>\n      <td>28.0</td>\n      <td>2004</td>\n      <td>08/29/2004</td>\n      <td>1</td>\n      <td>0</td>\n      <td>0</td>\n      <td>1.0</td>\n      <td>South Korea</td>\n      <td>Archery</td>\n    </tr>\n    <tr>\n      <th>8509</th>\n      <td>Jang Yong-Ho</td>\n      <td>24.0</td>\n      <td>2000</td>\n      <td>10/01/2000</td>\n      <td>1</td>\n      <td>0</td>\n      <td>0</td>\n      <td>1.0</td>\n      <td>South Korea</td>\n      <td>Archery</td>\n    </tr>\n    <tr>\n      <th>8522</th>\n      <td>Kim Cheong-Tae</td>\n      <td>20.0</td>\n      <td>2000</td>\n      <td>10/01/2000</td>\n      <td>1</td>\n      <td>0</td>\n      <td>0</td>\n      <td>1.0</td>\n      <td>South Korea</td>\n      <td>Archery</td>\n    </tr>\n    <tr>\n      <th>8524</th>\n      <td>O Gyo-Mun</td>\n      <td>28.0</td>\n      <td>2000</td>\n      <td>10/01/2000</td>\n      <td>1</td>\n      <td>0</td>\n      <td>0</td>\n      <td>1.0</td>\n      <td>South Korea</td>\n      <td>Archery</td>\n    </tr>\n  </tbody>\n</table>\n<p>274 rows × 10 columns</p>\n</div>"
     },
     "metadata": {},
     "execution_count": 9
    }
   ],
   "source": [
    "## Solution 2 Start!\n",
    "\n",
    "# 한국의 모든 메달리스트 구하기 (중복 포함)\n",
    "korea_result = merged_result[merged_result['Country'] == 'South Korea']\n",
    "\n",
    "korea_result"
   ]
  },
  {
   "cell_type": "code",
   "execution_count": 10,
   "metadata": {},
   "outputs": [
    {
     "output_type": "execute_result",
     "data": {
      "text/plain": [
       "      Gold Medals  Silver Medals  Bronze Medals  Total Medals\n",
       "Year                                                         \n",
       "2000           12             26             35          73.0\n",
       "2002            5              2              0           7.0\n",
       "2004           14             28             10          52.0\n",
       "2006           14              3              2          19.0\n",
       "2008           41             11             26          78.0\n",
       "2010            6             10              2          18.0\n",
       "2012           18             13             30          61.0"
      ],
      "text/html": "<div>\n<style scoped>\n    .dataframe tbody tr th:only-of-type {\n        vertical-align: middle;\n    }\n\n    .dataframe tbody tr th {\n        vertical-align: top;\n    }\n\n    .dataframe thead th {\n        text-align: right;\n    }\n</style>\n<table border=\"1\" class=\"dataframe\">\n  <thead>\n    <tr style=\"text-align: right;\">\n      <th></th>\n      <th>Gold Medals</th>\n      <th>Silver Medals</th>\n      <th>Bronze Medals</th>\n      <th>Total Medals</th>\n    </tr>\n    <tr>\n      <th>Year</th>\n      <th></th>\n      <th></th>\n      <th></th>\n      <th></th>\n    </tr>\n  </thead>\n  <tbody>\n    <tr>\n      <th>2000</th>\n      <td>12</td>\n      <td>26</td>\n      <td>35</td>\n      <td>73.0</td>\n    </tr>\n    <tr>\n      <th>2002</th>\n      <td>5</td>\n      <td>2</td>\n      <td>0</td>\n      <td>7.0</td>\n    </tr>\n    <tr>\n      <th>2004</th>\n      <td>14</td>\n      <td>28</td>\n      <td>10</td>\n      <td>52.0</td>\n    </tr>\n    <tr>\n      <th>2006</th>\n      <td>14</td>\n      <td>3</td>\n      <td>2</td>\n      <td>19.0</td>\n    </tr>\n    <tr>\n      <th>2008</th>\n      <td>41</td>\n      <td>11</td>\n      <td>26</td>\n      <td>78.0</td>\n    </tr>\n    <tr>\n      <th>2010</th>\n      <td>6</td>\n      <td>10</td>\n      <td>2</td>\n      <td>18.0</td>\n    </tr>\n    <tr>\n      <th>2012</th>\n      <td>18</td>\n      <td>13</td>\n      <td>30</td>\n      <td>61.0</td>\n    </tr>\n  </tbody>\n</table>\n</div>"
     },
     "metadata": {},
     "execution_count": 10
    }
   ],
   "source": [
    "# 1. 대한민국의 연도별로 메달 집계하기\n",
    "\n",
    "# 'Year'를 기준으로 Groupby를 진행한다. -> sum() 통계함수로 메달의 합을 구하고 그 중에서 메달에 관련한 Column만 추출한다.\n",
    "kr_result_by_year = korea_result.groupby('Year').sum()[['Gold Medals', 'Silver Medals', 'Bronze Medals', 'Total Medals']]\n",
    "\n",
    "# 결과를 출력한다.\n",
    "kr_result_by_year"
   ]
  },
  {
   "cell_type": "code",
   "execution_count": 11,
   "metadata": {},
   "outputs": [
    {
     "output_type": "execute_result",
     "data": {
      "text/plain": [
       "                  Gold Medals  Silver Medals  Bronze Medals  Total Medals\n",
       "Athlete                                                                  \n",
       "Jin Jong-O                  3              2              0           5.0\n",
       "Park Seong-Hyeon            3              1              0           4.0\n",
       "An Hyeon-Su                 3              0              1           4.0\n",
       "Jin Seon-Yu                 3              0              0           3.0\n",
       "Yun Mi-Jin                  3              0              0           3.0\n",
       "...                       ...            ...            ...           ...\n",
       "Song Myeong-Seop            0              0              1           1.0\n",
       "Yang Tae-Yeong              0              0              1           1.0\n",
       "Yoon Jae-Young              0              0              1           1.0\n",
       "Yu Ji-Hye                   0              0              1           1.0\n",
       "Yun Seok-Yeong              0              0              1           1.0\n",
       "\n",
       "[232 rows x 4 columns]"
      ],
      "text/html": "<div>\n<style scoped>\n    .dataframe tbody tr th:only-of-type {\n        vertical-align: middle;\n    }\n\n    .dataframe tbody tr th {\n        vertical-align: top;\n    }\n\n    .dataframe thead th {\n        text-align: right;\n    }\n</style>\n<table border=\"1\" class=\"dataframe\">\n  <thead>\n    <tr style=\"text-align: right;\">\n      <th></th>\n      <th>Gold Medals</th>\n      <th>Silver Medals</th>\n      <th>Bronze Medals</th>\n      <th>Total Medals</th>\n    </tr>\n    <tr>\n      <th>Athlete</th>\n      <th></th>\n      <th></th>\n      <th></th>\n      <th></th>\n    </tr>\n  </thead>\n  <tbody>\n    <tr>\n      <th>Jin Jong-O</th>\n      <td>3</td>\n      <td>2</td>\n      <td>0</td>\n      <td>5.0</td>\n    </tr>\n    <tr>\n      <th>Park Seong-Hyeon</th>\n      <td>3</td>\n      <td>1</td>\n      <td>0</td>\n      <td>4.0</td>\n    </tr>\n    <tr>\n      <th>An Hyeon-Su</th>\n      <td>3</td>\n      <td>0</td>\n      <td>1</td>\n      <td>4.0</td>\n    </tr>\n    <tr>\n      <th>Jin Seon-Yu</th>\n      <td>3</td>\n      <td>0</td>\n      <td>0</td>\n      <td>3.0</td>\n    </tr>\n    <tr>\n      <th>Yun Mi-Jin</th>\n      <td>3</td>\n      <td>0</td>\n      <td>0</td>\n      <td>3.0</td>\n    </tr>\n    <tr>\n      <th>...</th>\n      <td>...</td>\n      <td>...</td>\n      <td>...</td>\n      <td>...</td>\n    </tr>\n    <tr>\n      <th>Song Myeong-Seop</th>\n      <td>0</td>\n      <td>0</td>\n      <td>1</td>\n      <td>1.0</td>\n    </tr>\n    <tr>\n      <th>Yang Tae-Yeong</th>\n      <td>0</td>\n      <td>0</td>\n      <td>1</td>\n      <td>1.0</td>\n    </tr>\n    <tr>\n      <th>Yoon Jae-Young</th>\n      <td>0</td>\n      <td>0</td>\n      <td>1</td>\n      <td>1.0</td>\n    </tr>\n    <tr>\n      <th>Yu Ji-Hye</th>\n      <td>0</td>\n      <td>0</td>\n      <td>1</td>\n      <td>1.0</td>\n    </tr>\n    <tr>\n      <th>Yun Seok-Yeong</th>\n      <td>0</td>\n      <td>0</td>\n      <td>1</td>\n      <td>1.0</td>\n    </tr>\n  </tbody>\n</table>\n<p>232 rows × 4 columns</p>\n</div>"
     },
     "metadata": {},
     "execution_count": 11
    }
   ],
   "source": [
    "# 2. 대한민국의 선수별 총메달 개수 구하기 (금, 은, 동 순으로 정렬)\n",
    "\n",
    "# 'Athlete'를 기준으로 Groupby를 진행한다. -> sum() 통계함수로 메달의 합을 구하고 그 중에서 메달에 관련한 Column만 추출한다.\n",
    "kr_result_by_athlete = korea_result.groupby('Athlete').sum()[['Gold Medals', 'Silver Medals', 'Bronze Medals', 'Total Medals']]\n",
    "\n",
    "# 금은동을 기준으로(by), 내림차순으로(ascending=False), row를 중심으로(axis=0) sort_values() 를 진행한다.\n",
    "kr_result_by_athlete.sort_values(by=['Gold Medals', 'Silver Medals', 'Bronze Medals', 'Total Medals'], axis=0, ascending=False)"
   ]
  }
 ]
}